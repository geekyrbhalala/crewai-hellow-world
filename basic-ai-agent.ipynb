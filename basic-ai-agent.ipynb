{
 "cells": [
  {
   "cell_type": "markdown",
   "id": "0eeef861",
   "metadata": {},
   "source": [
    "Step 1 : Define the Agent which can analyse sentiment or emotion"
   ]
  },
  {
   "cell_type": "code",
   "execution_count": 24,
   "id": "7d50850d",
   "metadata": {},
   "outputs": [],
   "source": [
    "from crewai.llm import LLM\n",
    "import os\n",
    "# Disable the execution trace prompt\n",
    "os.environ['CREWAI_TELEMETRY_OPT_OUT'] = 'true'\n",
    "api_key = os.getenv(\"OPENAI_API_KEY\")\n",
    "os.environ[\"OPENAI_PROJECT\"] = os.getenv(\"OPENAI_PROJECT\")\n",
    "if not api_key:\n",
    "    raise ValueError(\"OPENAI_API_KEY not found in environment variables\")\n",
    "gpt_llm = LLM(\"openai/gpt-4o\", temperature=0)\n",
    "\n",
    "from crewai import Agent\n",
    "\n",
    "sentiment_agent = Agent(\n",
    "    llm=gpt_llm,\n",
    "\n",
    "    role='Sentiment and Emotion Analysis Specialist',\n",
    "    \n",
    "    goal='Analyze the provided text and accurately classify its dominant sentiment (positive, negative, or neutral) and underlying emotions (such as joy, anger, sadness, fear, surprise, or disgust).',\n",
    "    \n",
    "    backstory=\"\"\"You are an expert in affective computing and natural language processing, \n",
    "    specializing in decoding the emotional undertones and sentiment expressed in written text. \n",
    "    With years of experience analyzing communication patterns across diverse contexts—from \n",
    "    social media posts to customer feedback and literary works—you have developed an acute \n",
    "    sensitivity to linguistic nuances, tonal shifts, and emotional markers. You understand \n",
    "    that words carry not just meaning, but feeling, and you excel at identifying whether a \n",
    "    piece of text conveys positivity, negativity, or neutrality, while simultaneously \n",
    "    detecting underlying emotions like joy, anger, sadness, fear, surprise, or disgust. \n",
    "    Your analyses are thorough, accurate, and contextually aware, considering factors such \n",
    "    as word choice, punctuation, intensity modifiers, and cultural context.\"\"\",\n",
    "    \n",
    "    tools=[],\n",
    "    verbose=True,\n",
    "    allow_delegation=False\n",
    ")\n",
    "    "
   ]
  },
  {
   "cell_type": "markdown",
   "id": "6e3fac64",
   "metadata": {},
   "source": [
    "Step 2 : Define the Task"
   ]
  },
  {
   "cell_type": "code",
   "execution_count": 20,
   "id": "37f36497",
   "metadata": {},
   "outputs": [],
   "source": [
    "from crewai import Task\n",
    "\n",
    "# Define a task with a description and expected output\n",
    "sentiment_analysis_task = Task(\n",
    "    description=(\n",
    "        'Analyze the provided text to determine its overall sentiment and identify '\n",
    "        'the dominant emotion expressed. Classify the sentiment as positive, negative, '\n",
    "        'or neutral. Identify the primary emotion as joy, anger, sadness, fear, surprise, '\n",
    "        'disgust, or neutral.'\n",
    "    ),\n",
    "    expected_output=\"Two words: [sentiment] [emotion] (e.g., 'positive joy' or 'negative anger')\",\n",
    "    tools=[],\n",
    "    agent=sentiment_agent,\n",
    "    verbose=True\n",
    ")"
   ]
  },
  {
   "cell_type": "markdown",
   "id": "60b15160",
   "metadata": {},
   "source": [
    "Step 3 : Initialize the Crew"
   ]
  },
  {
   "cell_type": "code",
   "execution_count": 21,
   "id": "195df893",
   "metadata": {},
   "outputs": [],
   "source": [
    "from crewai import Crew\n",
    "\n",
    "crew = Crew(\n",
    "    agents=[sentiment_agent],\n",
    "    tasks=[sentiment_analysis_task],\n",
    ")"
   ]
  },
  {
   "cell_type": "markdown",
   "id": "4c77bc1c",
   "metadata": {},
   "source": [
    "Step 4 : Run the Crew and get the Response"
   ]
  },
  {
   "cell_type": "code",
   "execution_count": 22,
   "id": "328e390c",
   "metadata": {},
   "outputs": [
    {
     "data": {
      "text/html": [
       "<pre style=\"white-space:pre;overflow-x:auto;line-height:normal;font-family:Menlo,'DejaVu Sans Mono',consolas,'Courier New',monospace\"><span style=\"color: #800080; text-decoration-color: #800080\">╭─────────────────────────────────────────────── 🤖 Agent Started ────────────────────────────────────────────────╮</span>\n",
       "<span style=\"color: #800080; text-decoration-color: #800080\">│</span>                                                                                                                 <span style=\"color: #800080; text-decoration-color: #800080\">│</span>\n",
       "<span style=\"color: #800080; text-decoration-color: #800080\">│</span>  <span style=\"color: #c0c0c0; text-decoration-color: #c0c0c0\">Agent: </span><span style=\"color: #00ff00; text-decoration-color: #00ff00; font-weight: bold\">Sentiment and Emotion Analysis Specialist</span>                                                               <span style=\"color: #800080; text-decoration-color: #800080\">│</span>\n",
       "<span style=\"color: #800080; text-decoration-color: #800080\">│</span>                                                                                                                 <span style=\"color: #800080; text-decoration-color: #800080\">│</span>\n",
       "<span style=\"color: #800080; text-decoration-color: #800080\">│</span>  <span style=\"color: #c0c0c0; text-decoration-color: #c0c0c0\">Task: </span><span style=\"color: #00ff00; text-decoration-color: #00ff00\">Analyze the provided text to determine its overall sentiment and identify the dominant emotion </span>          <span style=\"color: #800080; text-decoration-color: #800080\">│</span>\n",
       "<span style=\"color: #800080; text-decoration-color: #800080\">│</span>  <span style=\"color: #00ff00; text-decoration-color: #00ff00\">expressed. Classify the sentiment as positive, negative, or neutral. Identify the primary emotion as joy, </span>     <span style=\"color: #800080; text-decoration-color: #800080\">│</span>\n",
       "<span style=\"color: #800080; text-decoration-color: #800080\">│</span>  <span style=\"color: #00ff00; text-decoration-color: #00ff00\">anger, sadness, fear, surprise, disgust, or neutral.</span>                                                           <span style=\"color: #800080; text-decoration-color: #800080\">│</span>\n",
       "<span style=\"color: #800080; text-decoration-color: #800080\">│</span>                                                                                                                 <span style=\"color: #800080; text-decoration-color: #800080\">│</span>\n",
       "<span style=\"color: #800080; text-decoration-color: #800080\">╰─────────────────────────────────────────────────────────────────────────────────────────────────────────────────╯</span>\n",
       "</pre>\n"
      ],
      "text/plain": [
       "\u001b[35m╭─\u001b[0m\u001b[35m──────────────────────────────────────────────\u001b[0m\u001b[35m 🤖 Agent Started \u001b[0m\u001b[35m───────────────────────────────────────────────\u001b[0m\u001b[35m─╮\u001b[0m\n",
       "\u001b[35m│\u001b[0m                                                                                                                 \u001b[35m│\u001b[0m\n",
       "\u001b[35m│\u001b[0m  \u001b[37mAgent: \u001b[0m\u001b[1;92mSentiment and Emotion Analysis Specialist\u001b[0m                                                               \u001b[35m│\u001b[0m\n",
       "\u001b[35m│\u001b[0m                                                                                                                 \u001b[35m│\u001b[0m\n",
       "\u001b[35m│\u001b[0m  \u001b[37mTask: \u001b[0m\u001b[92mAnalyze the provided text to determine its overall sentiment and identify the dominant emotion \u001b[0m          \u001b[35m│\u001b[0m\n",
       "\u001b[35m│\u001b[0m  \u001b[92mexpressed. Classify the sentiment as positive, negative, or neutral. Identify the primary emotion as joy, \u001b[0m     \u001b[35m│\u001b[0m\n",
       "\u001b[35m│\u001b[0m  \u001b[92manger, sadness, fear, surprise, disgust, or neutral.\u001b[0m                                                           \u001b[35m│\u001b[0m\n",
       "\u001b[35m│\u001b[0m                                                                                                                 \u001b[35m│\u001b[0m\n",
       "\u001b[35m╰─────────────────────────────────────────────────────────────────────────────────────────────────────────────────╯\u001b[0m\n"
      ]
     },
     "metadata": {},
     "output_type": "display_data"
    },
    {
     "data": {
      "text/html": [
       "<pre style=\"white-space:pre;overflow-x:auto;line-height:normal;font-family:Menlo,'DejaVu Sans Mono',consolas,'Courier New',monospace\">\n",
       "</pre>\n"
      ],
      "text/plain": [
       "\n"
      ]
     },
     "metadata": {},
     "output_type": "display_data"
    },
    {
     "data": {
      "text/html": [
       "<pre style=\"white-space:pre;overflow-x:auto;line-height:normal;font-family:Menlo,'DejaVu Sans Mono',consolas,'Courier New',monospace\"><span style=\"color: #008000; text-decoration-color: #008000\">╭───────────────────────────────────────────── ✅ Agent Final Answer ─────────────────────────────────────────────╮</span>\n",
       "<span style=\"color: #008000; text-decoration-color: #008000\">│</span>                                                                                                                 <span style=\"color: #008000; text-decoration-color: #008000\">│</span>\n",
       "<span style=\"color: #008000; text-decoration-color: #008000\">│</span>  <span style=\"color: #c0c0c0; text-decoration-color: #c0c0c0\">Agent: </span><span style=\"color: #00ff00; text-decoration-color: #00ff00; font-weight: bold\">Sentiment and Emotion Analysis Specialist</span>                                                               <span style=\"color: #008000; text-decoration-color: #008000\">│</span>\n",
       "<span style=\"color: #008000; text-decoration-color: #008000\">│</span>                                                                                                                 <span style=\"color: #008000; text-decoration-color: #008000\">│</span>\n",
       "<span style=\"color: #008000; text-decoration-color: #008000\">│</span>  <span style=\"color: #c0c0c0; text-decoration-color: #c0c0c0\">Final Answer:</span>                                                                                                  <span style=\"color: #008000; text-decoration-color: #008000\">│</span>\n",
       "<span style=\"color: #008000; text-decoration-color: #008000\">│</span>  <span style=\"color: #00ff00; text-decoration-color: #00ff00\">negative sadness</span>                                                                                               <span style=\"color: #008000; text-decoration-color: #008000\">│</span>\n",
       "<span style=\"color: #008000; text-decoration-color: #008000\">│</span>                                                                                                                 <span style=\"color: #008000; text-decoration-color: #008000\">│</span>\n",
       "<span style=\"color: #008000; text-decoration-color: #008000\">╰─────────────────────────────────────────────────────────────────────────────────────────────────────────────────╯</span>\n",
       "</pre>\n"
      ],
      "text/plain": [
       "\u001b[32m╭─\u001b[0m\u001b[32m────────────────────────────────────────────\u001b[0m\u001b[32m ✅ Agent Final Answer \u001b[0m\u001b[32m────────────────────────────────────────────\u001b[0m\u001b[32m─╮\u001b[0m\n",
       "\u001b[32m│\u001b[0m                                                                                                                 \u001b[32m│\u001b[0m\n",
       "\u001b[32m│\u001b[0m  \u001b[37mAgent: \u001b[0m\u001b[1;92mSentiment and Emotion Analysis Specialist\u001b[0m                                                               \u001b[32m│\u001b[0m\n",
       "\u001b[32m│\u001b[0m                                                                                                                 \u001b[32m│\u001b[0m\n",
       "\u001b[32m│\u001b[0m  \u001b[37mFinal Answer:\u001b[0m                                                                                                  \u001b[32m│\u001b[0m\n",
       "\u001b[32m│\u001b[0m  \u001b[92mnegative sadness\u001b[0m                                                                                               \u001b[32m│\u001b[0m\n",
       "\u001b[32m│\u001b[0m                                                                                                                 \u001b[32m│\u001b[0m\n",
       "\u001b[32m╰─────────────────────────────────────────────────────────────────────────────────────────────────────────────────╯\u001b[0m\n"
      ]
     },
     "metadata": {},
     "output_type": "display_data"
    },
    {
     "data": {
      "text/html": [
       "<pre style=\"white-space:pre;overflow-x:auto;line-height:normal;font-family:Menlo,'DejaVu Sans Mono',consolas,'Courier New',monospace\">\n",
       "</pre>\n"
      ],
      "text/plain": [
       "\n"
      ]
     },
     "metadata": {},
     "output_type": "display_data"
    },
    {
     "name": "stdout",
     "output_type": "stream",
     "text": [
      "Sentiment Analysis Result: negative sadness\n"
     ]
    }
   ],
   "source": [
    "# Kick off the crew with input query and get the response\n",
    "#review = \"This product exceeded all my expectations! The quality is outstanding and it arrived even earlier than promised. I'm absolutely thrilled with my purchase and will definitely be ordering again. Best investment I've made this year!\"\n",
    "#review = \"Absolutely terrible experience. The item broke within two days of use and customer service completely ignored my emails. I feel cheated and will never shop here again. Total waste of money!\"\n",
    "#review = \"I was really looking forward to this product, but unfortunately it didn't work as advertised. I'm quite disappointed because I had such high hopes. It's a shame because the concept was great.\"\n",
    "review = \"The product works as described. Delivery took the standard time. Nothing particularly special, but it does what it's supposed to do. Average quality for the price point.\"\n",
    "#review = \"I'm genuinely worried about the safety of this product. There's a strange chemical smell and the materials seem questionable. I'm concerned about using it around my children. Returning immediately.\"\n",
    "\n",
    "result = crew.kickoff(inputs={\"text\": review})\n",
    "\n",
    "print(\"Sentiment Analysis Result:\", result)"
   ]
  }
 ],
 "metadata": {
  "kernelspec": {
   "display_name": "Python 3",
   "language": "python",
   "name": "python3"
  },
  "language_info": {
   "codemirror_mode": {
    "name": "ipython",
    "version": 3
   },
   "file_extension": ".py",
   "mimetype": "text/x-python",
   "name": "python",
   "nbconvert_exporter": "python",
   "pygments_lexer": "ipython3",
   "version": "3.12.0"
  }
 },
 "nbformat": 4,
 "nbformat_minor": 5
}
